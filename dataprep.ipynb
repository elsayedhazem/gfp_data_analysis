{
 "cells": [
  {
   "cell_type": "code",
   "execution_count": 240,
   "metadata": {},
   "outputs": [],
   "source": [
    "import pandas as pd"
   ]
  },
  {
   "cell_type": "code",
   "execution_count": 241,
   "metadata": {},
   "outputs": [
    {
     "data": {
      "text/plain": [
       "(145, 75)"
      ]
     },
     "execution_count": 241,
     "metadata": {},
     "output_type": "execute_result"
    }
   ],
   "source": [
    "df = pd.read_json('data/formatted.json', orient='index')\n",
    "df.shape"
   ]
  },
  {
   "cell_type": "markdown",
   "metadata": {},
   "source": [
    "#### First look at our data after scraping"
   ]
  },
  {
   "cell_type": "code",
   "execution_count": 270,
   "metadata": {},
   "outputs": [
    {
     "data": {
      "text/html": [
       "<div>\n",
       "<style scoped>\n",
       "    .dataframe tbody tr th:only-of-type {\n",
       "        vertical-align: middle;\n",
       "    }\n",
       "\n",
       "    .dataframe tbody tr th {\n",
       "        vertical-align: top;\n",
       "    }\n",
       "\n",
       "    .dataframe thead th {\n",
       "        text-align: right;\n",
       "    }\n",
       "</style>\n",
       "<table border=\"1\" class=\"dataframe\">\n",
       "  <thead>\n",
       "    <tr style=\"text-align: right;\">\n",
       "      <th></th>\n",
       "      <th>power_index</th>\n",
       "      <th>ppp</th>\n",
       "      <th>forex_gold</th>\n",
       "      <th>defense_budget</th>\n",
       "      <th>external_debt</th>\n",
       "      <th>square_land_area</th>\n",
       "      <th>coastline_coverage</th>\n",
       "      <th>shared_borders</th>\n",
       "      <th>waterways</th>\n",
       "      <th>population</th>\n",
       "      <th>...</th>\n",
       "      <th>ports</th>\n",
       "      <th>airports</th>\n",
       "      <th>roadway_coverage</th>\n",
       "      <th>railway_coverage</th>\n",
       "      <th>total_naval_assets</th>\n",
       "      <th>aircraft_carriers</th>\n",
       "      <th>submarines</th>\n",
       "      <th>army_readiness</th>\n",
       "      <th>airforce_readiness</th>\n",
       "      <th>artillery</th>\n",
       "    </tr>\n",
       "  </thead>\n",
       "  <tbody>\n",
       "    <tr>\n",
       "      <th>afghanistan</th>\n",
       "      <td>2.3118</td>\n",
       "      <td>18000000000</td>\n",
       "      <td>5000000000</td>\n",
       "      <td>49525000</td>\n",
       "      <td>145000000</td>\n",
       "      <td>652230</td>\n",
       "      <td>0</td>\n",
       "      <td>5987</td>\n",
       "      <td>1200</td>\n",
       "      <td>38346720</td>\n",
       "      <td>...</td>\n",
       "      <td>2</td>\n",
       "      <td>46</td>\n",
       "      <td>34903</td>\n",
       "      <td>0</td>\n",
       "      <td>0.0</td>\n",
       "      <td>0.0</td>\n",
       "      <td>0.0</td>\n",
       "      <td>0.181538</td>\n",
       "      <td>0.000000</td>\n",
       "      <td>60</td>\n",
       "    </tr>\n",
       "    <tr>\n",
       "      <th>albania</th>\n",
       "      <td>1.8466</td>\n",
       "      <td>38000000000</td>\n",
       "      <td>4000000000</td>\n",
       "      <td>192400000</td>\n",
       "      <td>10000000000</td>\n",
       "      <td>28748</td>\n",
       "      <td>362</td>\n",
       "      <td>691</td>\n",
       "      <td>41</td>\n",
       "      <td>3095344</td>\n",
       "      <td>...</td>\n",
       "      <td>4</td>\n",
       "      <td>3</td>\n",
       "      <td>3945</td>\n",
       "      <td>677</td>\n",
       "      <td>19.0</td>\n",
       "      <td>0.0</td>\n",
       "      <td>0.0</td>\n",
       "      <td>0.200000</td>\n",
       "      <td>0.526316</td>\n",
       "      <td>0</td>\n",
       "    </tr>\n",
       "    <tr>\n",
       "      <th>algeria</th>\n",
       "      <td>0.3911</td>\n",
       "      <td>470000000000</td>\n",
       "      <td>100000000000</td>\n",
       "      <td>9979200000</td>\n",
       "      <td>6000000000</td>\n",
       "      <td>2381741</td>\n",
       "      <td>998</td>\n",
       "      <td>6734</td>\n",
       "      <td>0</td>\n",
       "      <td>44178884</td>\n",
       "      <td>...</td>\n",
       "      <td>12</td>\n",
       "      <td>149</td>\n",
       "      <td>104000</td>\n",
       "      <td>3973</td>\n",
       "      <td>201.0</td>\n",
       "      <td>0.0</td>\n",
       "      <td>6.0</td>\n",
       "      <td>0.650582</td>\n",
       "      <td>0.650823</td>\n",
       "      <td>707</td>\n",
       "    </tr>\n",
       "    <tr>\n",
       "      <th>angola</th>\n",
       "      <td>0.8732</td>\n",
       "      <td>205700000000</td>\n",
       "      <td>16995000000</td>\n",
       "      <td>1059270000</td>\n",
       "      <td>45000000000</td>\n",
       "      <td>1246700</td>\n",
       "      <td>1600</td>\n",
       "      <td>5369</td>\n",
       "      <td>1300</td>\n",
       "      <td>34795287</td>\n",
       "      <td>...</td>\n",
       "      <td>6</td>\n",
       "      <td>102</td>\n",
       "      <td>26000</td>\n",
       "      <td>2852</td>\n",
       "      <td>40.0</td>\n",
       "      <td>0.0</td>\n",
       "      <td>0.0</td>\n",
       "      <td>0.647676</td>\n",
       "      <td>0.599338</td>\n",
       "      <td>653</td>\n",
       "    </tr>\n",
       "    <tr>\n",
       "      <th>argentina</th>\n",
       "      <td>0.4243</td>\n",
       "      <td>900000000000</td>\n",
       "      <td>45000000000</td>\n",
       "      <td>3064800000</td>\n",
       "      <td>280000000000</td>\n",
       "      <td>2780400</td>\n",
       "      <td>4989</td>\n",
       "      <td>11968</td>\n",
       "      <td>11000</td>\n",
       "      <td>46245668</td>\n",
       "      <td>...</td>\n",
       "      <td>10</td>\n",
       "      <td>916</td>\n",
       "      <td>281290</td>\n",
       "      <td>36917</td>\n",
       "      <td>47.0</td>\n",
       "      <td>0.0</td>\n",
       "      <td>2.0</td>\n",
       "      <td>0.547634</td>\n",
       "      <td>0.548246</td>\n",
       "      <td>247</td>\n",
       "    </tr>\n",
       "    <tr>\n",
       "      <th>armenia</th>\n",
       "      <td>1.9137</td>\n",
       "      <td>40000000000</td>\n",
       "      <td>2200000000</td>\n",
       "      <td>632500000</td>\n",
       "      <td>12000000000</td>\n",
       "      <td>29743</td>\n",
       "      <td>0</td>\n",
       "      <td>1570</td>\n",
       "      <td>0</td>\n",
       "      <td>3000756</td>\n",
       "      <td>...</td>\n",
       "      <td>0</td>\n",
       "      <td>7</td>\n",
       "      <td>7700</td>\n",
       "      <td>780</td>\n",
       "      <td>0.0</td>\n",
       "      <td>0.0</td>\n",
       "      <td>0.0</td>\n",
       "      <td>0.551046</td>\n",
       "      <td>0.500000</td>\n",
       "      <td>183</td>\n",
       "    </tr>\n",
       "    <tr>\n",
       "      <th>australia</th>\n",
       "      <td>0.2567</td>\n",
       "      <td>1250900000000</td>\n",
       "      <td>60000000000</td>\n",
       "      <td>52162000000</td>\n",
       "      <td>3115913000000</td>\n",
       "      <td>7741220</td>\n",
       "      <td>25760</td>\n",
       "      <td>0</td>\n",
       "      <td>2000</td>\n",
       "      <td>26141369</td>\n",
       "      <td>...</td>\n",
       "      <td>29</td>\n",
       "      <td>418</td>\n",
       "      <td>873573</td>\n",
       "      <td>33343</td>\n",
       "      <td>43.0</td>\n",
       "      <td>0.0</td>\n",
       "      <td>6.0</td>\n",
       "      <td>0.387980</td>\n",
       "      <td>0.648725</td>\n",
       "      <td>48</td>\n",
       "    </tr>\n",
       "    <tr>\n",
       "      <th>austria</th>\n",
       "      <td>1.6543</td>\n",
       "      <td>465100000000</td>\n",
       "      <td>22000000000</td>\n",
       "      <td>3432000000</td>\n",
       "      <td>700000000000</td>\n",
       "      <td>83871</td>\n",
       "      <td>0</td>\n",
       "      <td>2524</td>\n",
       "      <td>0</td>\n",
       "      <td>8913088</td>\n",
       "      <td>...</td>\n",
       "      <td>4</td>\n",
       "      <td>50</td>\n",
       "      <td>137039</td>\n",
       "      <td>5800</td>\n",
       "      <td>0.0</td>\n",
       "      <td>0.0</td>\n",
       "      <td>0.0</td>\n",
       "      <td>0.386861</td>\n",
       "      <td>0.653465</td>\n",
       "      <td>53</td>\n",
       "    </tr>\n",
       "    <tr>\n",
       "      <th>azerbaijan</th>\n",
       "      <td>0.9391</td>\n",
       "      <td>140000000000</td>\n",
       "      <td>6700000000</td>\n",
       "      <td>3100000000</td>\n",
       "      <td>20000000000</td>\n",
       "      <td>86600</td>\n",
       "      <td>713</td>\n",
       "      <td>2468</td>\n",
       "      <td>0</td>\n",
       "      <td>10353296</td>\n",
       "      <td>...</td>\n",
       "      <td>1</td>\n",
       "      <td>23</td>\n",
       "      <td>24981</td>\n",
       "      <td>2944</td>\n",
       "      <td>24.0</td>\n",
       "      <td>0.0</td>\n",
       "      <td>4.0</td>\n",
       "      <td>0.650352</td>\n",
       "      <td>0.547297</td>\n",
       "      <td>486</td>\n",
       "    </tr>\n",
       "    <tr>\n",
       "      <th>bahrain</th>\n",
       "      <td>1.4511</td>\n",
       "      <td>70000000000</td>\n",
       "      <td>2349000000</td>\n",
       "      <td>1538800000</td>\n",
       "      <td>55000000000</td>\n",
       "      <td>760</td>\n",
       "      <td>161</td>\n",
       "      <td>0</td>\n",
       "      <td>0</td>\n",
       "      <td>1540588</td>\n",
       "      <td>...</td>\n",
       "      <td>2</td>\n",
       "      <td>4</td>\n",
       "      <td>4122</td>\n",
       "      <td>0</td>\n",
       "      <td>48.0</td>\n",
       "      <td>0.0</td>\n",
       "      <td>0.0</td>\n",
       "      <td>0.553034</td>\n",
       "      <td>0.500000</td>\n",
       "      <td>70</td>\n",
       "    </tr>\n",
       "  </tbody>\n",
       "</table>\n",
       "<p>10 rows × 56 columns</p>\n",
       "</div>"
      ],
      "text/plain": [
       "             power_index            ppp    forex_gold  defense_budget  \\\n",
       "afghanistan       2.3118    18000000000    5000000000        49525000   \n",
       "albania           1.8466    38000000000    4000000000       192400000   \n",
       "algeria           0.3911   470000000000  100000000000      9979200000   \n",
       "angola            0.8732   205700000000   16995000000      1059270000   \n",
       "argentina         0.4243   900000000000   45000000000      3064800000   \n",
       "armenia           1.9137    40000000000    2200000000       632500000   \n",
       "australia         0.2567  1250900000000   60000000000     52162000000   \n",
       "austria           1.6543   465100000000   22000000000      3432000000   \n",
       "azerbaijan        0.9391   140000000000    6700000000      3100000000   \n",
       "bahrain           1.4511    70000000000    2349000000      1538800000   \n",
       "\n",
       "             external_debt  square_land_area  coastline_coverage  \\\n",
       "afghanistan      145000000            652230                   0   \n",
       "albania        10000000000             28748                 362   \n",
       "algeria         6000000000           2381741                 998   \n",
       "angola         45000000000           1246700                1600   \n",
       "argentina     280000000000           2780400                4989   \n",
       "armenia        12000000000             29743                   0   \n",
       "australia    3115913000000           7741220               25760   \n",
       "austria       700000000000             83871                   0   \n",
       "azerbaijan     20000000000             86600                 713   \n",
       "bahrain        55000000000               760                 161   \n",
       "\n",
       "             shared_borders  waterways  population  ...  ports  airports  \\\n",
       "afghanistan            5987       1200    38346720  ...      2        46   \n",
       "albania                 691         41     3095344  ...      4         3   \n",
       "algeria                6734          0    44178884  ...     12       149   \n",
       "angola                 5369       1300    34795287  ...      6       102   \n",
       "argentina             11968      11000    46245668  ...     10       916   \n",
       "armenia                1570          0     3000756  ...      0         7   \n",
       "australia                 0       2000    26141369  ...     29       418   \n",
       "austria                2524          0     8913088  ...      4        50   \n",
       "azerbaijan             2468          0    10353296  ...      1        23   \n",
       "bahrain                   0          0     1540588  ...      2         4   \n",
       "\n",
       "             roadway_coverage  railway_coverage  total_naval_assets  \\\n",
       "afghanistan             34903                 0                 0.0   \n",
       "albania                  3945               677                19.0   \n",
       "algeria                104000              3973               201.0   \n",
       "angola                  26000              2852                40.0   \n",
       "argentina              281290             36917                47.0   \n",
       "armenia                  7700               780                 0.0   \n",
       "australia              873573             33343                43.0   \n",
       "austria                137039              5800                 0.0   \n",
       "azerbaijan              24981              2944                24.0   \n",
       "bahrain                  4122                 0                48.0   \n",
       "\n",
       "             aircraft_carriers  submarines  army_readiness  \\\n",
       "afghanistan                0.0         0.0        0.181538   \n",
       "albania                    0.0         0.0        0.200000   \n",
       "algeria                    0.0         6.0        0.650582   \n",
       "angola                     0.0         0.0        0.647676   \n",
       "argentina                  0.0         2.0        0.547634   \n",
       "armenia                    0.0         0.0        0.551046   \n",
       "australia                  0.0         6.0        0.387980   \n",
       "austria                    0.0         0.0        0.386861   \n",
       "azerbaijan                 0.0         4.0        0.650352   \n",
       "bahrain                    0.0         0.0        0.553034   \n",
       "\n",
       "             airforce_readiness  artillery  \n",
       "afghanistan            0.000000         60  \n",
       "albania                0.526316          0  \n",
       "algeria                0.650823        707  \n",
       "angola                 0.599338        653  \n",
       "argentina              0.548246        247  \n",
       "armenia                0.500000        183  \n",
       "australia              0.648725         48  \n",
       "austria                0.653465         53  \n",
       "azerbaijan             0.547297        486  \n",
       "bahrain                0.500000         70  \n",
       "\n",
       "[10 rows x 56 columns]"
      ]
     },
     "execution_count": 270,
     "metadata": {},
     "output_type": "execute_result"
    }
   ],
   "source": [
    "df.head(10)"
   ]
  },
  {
   "cell_type": "code",
   "execution_count": 243,
   "metadata": {},
   "outputs": [
    {
     "name": "stdout",
     "output_type": "stream",
     "text": [
      "<class 'pandas.core.frame.DataFrame'>\n",
      "Index: 145 entries, afghanistan to zimbabwe\n",
      "Data columns (total 75 columns):\n",
      " #   Column                           Non-Null Count  Dtype  \n",
      "---  ------                           --------------  -----  \n",
      " 0   pwrIndex                         145 non-null    float64\n",
      " 1   Purchasing Power Parity:         145 non-null    object \n",
      " 2   Foreign Exchange/Gold:           145 non-null    object \n",
      " 3   Defense Budget:                  145 non-null    object \n",
      " 4   External Debt:                   145 non-null    object \n",
      " 5   Square Land Area:                145 non-null    object \n",
      " 6   Coastline Coverage:              145 non-null    object \n",
      " 7   Shared Borders:                  145 non-null    object \n",
      " 8   Waterways (usable):              145 non-null    object \n",
      " 9   Total Population:                145 non-null    object \n",
      " 10  Available Manpower               145 non-null    object \n",
      " 11  Fit-for-Service                  145 non-null    object \n",
      " 12  Reaching Mil Age Annually        145 non-null    object \n",
      " 13  Tot Mil. Personnel (est.)        145 non-null    object \n",
      " 14  Active Personnel                 145 non-null    object \n",
      " 15  Reserve Personnel                145 non-null    object \n",
      " 16  Paramilitary                     145 non-null    object \n",
      " 17  Air Force Personnel*             145 non-null    object \n",
      " 18  Army Personnel*                  145 non-null    object \n",
      " 19  Navy Personnel*                  145 non-null    object \n",
      " 20  Aircraft Total:                  145 non-null    object \n",
      " 21  Fighters:                        145 non-null    object \n",
      " 22  Attack Types:                    145 non-null    int64  \n",
      " 23  Transports (Fixed-Wing):         145 non-null    int64  \n",
      " 24  Trainers:                        145 non-null    object \n",
      " 25  Special-Mission:                 145 non-null    int64  \n",
      " 26  Tanker Fleet:                    145 non-null    int64  \n",
      " 27  Helicopters:                     145 non-null    object \n",
      " 28  Attack Helicopters:              145 non-null    int64  \n",
      " 29  Tanks:                           145 non-null    object \n",
      " 30  Vehicles:                        145 non-null    object \n",
      " 31  Self-Propelled Artillery:        145 non-null    object \n",
      " 32  Towed Artillery:                 145 non-null    object \n",
      " 33  MLRS (Rocket Artillery):         145 non-null    object \n",
      " 34  Oil Production:                  145 non-null    object \n",
      " 35  Oil Consumption:                 145 non-null    object \n",
      " 36  Oil Deficit:                     145 non-null    object \n",
      " 37  Oil Proven Reserves:             145 non-null    object \n",
      " 38  Natural Gas Production:          145 non-null    object \n",
      " 39  Natural Gas Consumption:         145 non-null    object \n",
      " 40  Natural Gas Deficit:             145 non-null    object \n",
      " 41  Nat.Gas Proven Rez:              145 non-null    object \n",
      " 42  Coal Production:                 145 non-null    object \n",
      " 43  Coal Consumption:                145 non-null    object \n",
      " 44  Coal Deficit:                    145 non-null    object \n",
      " 45  Coal Proven Reserves:            145 non-null    object \n",
      " 46  Labor Force:                     145 non-null    object \n",
      " 47  Merchant Marine Fleet:           145 non-null    object \n",
      " 48  Ports / Trade Terminals:         145 non-null    int64  \n",
      " 49  Airports:                        145 non-null    object \n",
      " 50  Roadway Coverage:                145 non-null    object \n",
      " 51  Railway Coverage:                145 non-null    object \n",
      " 52  Aircraft Total: Ready            145 non-null    object \n",
      " 53  Fighters: Ready                  145 non-null    object \n",
      " 54  Attack Types: Ready              145 non-null    int64  \n",
      " 55  Transports (Fixed-Wing): Ready   145 non-null    int64  \n",
      " 56  Trainers: Ready                  145 non-null    object \n",
      " 57  Special-Mission: Ready           145 non-null    int64  \n",
      " 58  Tanker Fleet: Ready              145 non-null    int64  \n",
      " 59  Helicopters: Ready               145 non-null    object \n",
      " 60  Attack Helicopters: Ready        145 non-null    int64  \n",
      " 61  Tanks: Ready                     145 non-null    object \n",
      " 62  Vehicles: Ready                  145 non-null    object \n",
      " 63  Self-Propelled Artillery: Ready  145 non-null    object \n",
      " 64  Towed Artillery: Ready           145 non-null    object \n",
      " 65  MLRS (Rocket Artillery): Ready   145 non-null    object \n",
      " 66  Total Assets:                    113 non-null    float64\n",
      " 67  Aircraft Carriers:               113 non-null    float64\n",
      " 68  Helicopter Carriers:             113 non-null    float64\n",
      " 69  Destroyers:                      113 non-null    float64\n",
      " 70  Frigates:                        113 non-null    float64\n",
      " 71  Corvettes:                       113 non-null    float64\n",
      " 72  Submarines:                      113 non-null    float64\n",
      " 73  Patrol Vessels:                  113 non-null    float64\n",
      " 74  Mine Warfare:                    113 non-null    float64\n",
      "dtypes: float64(10), int64(11), object(54)\n",
      "memory usage: 86.1+ KB\n"
     ]
    }
   ],
   "source": [
    "df.info()"
   ]
  },
  {
   "cell_type": "markdown",
   "metadata": {},
   "source": [
    "#### Missing Data"
   ]
  },
  {
   "cell_type": "code",
   "execution_count": 244,
   "metadata": {},
   "outputs": [
    {
     "data": {
      "text/plain": [
       "Mine Warfare:           32\n",
       "Patrol Vessels:         32\n",
       "Submarines:             32\n",
       "Corvettes:              32\n",
       "Frigates:               32\n",
       "Destroyers:             32\n",
       "Helicopter Carriers:    32\n",
       "Aircraft Carriers:      32\n",
       "Total Assets:           32\n",
       "dtype: int64"
      ]
     },
     "execution_count": 244,
     "metadata": {},
     "output_type": "execute_result"
    }
   ],
   "source": [
    "\n",
    "nulls = df.isnull().sum().sort_values(ascending=False).head(10)\n",
    "nulls = nulls[nulls > 0]\n",
    "nulls"
   ]
  },
  {
   "cell_type": "markdown",
   "metadata": {},
   "source": [
    "Are these the same countries?"
   ]
  },
  {
   "cell_type": "code",
   "execution_count": 245,
   "metadata": {},
   "outputs": [
    {
     "data": {
      "text/plain": [
       "32"
      ]
     },
     "execution_count": 245,
     "metadata": {},
     "output_type": "execute_result"
    }
   ],
   "source": [
    "cols = nulls.index.tolist()\n",
    "\n",
    "# find the list of countries whose values are null for each column\n",
    "countries_without_navies = []\n",
    "for col in cols:\n",
    "\tcountries_with_null = df[df[col].isnull()].index.tolist()\n",
    "\tcountries_without_navies.extend(countries_with_null)\n",
    "\n",
    "countries_without_navies = set(countries_without_navies)\n",
    "len(countries_without_navies)"
   ]
  },
  {
   "cell_type": "code",
   "execution_count": 246,
   "metadata": {},
   "outputs": [
    {
     "data": {
      "text/plain": [
       "['mongolia', 'paraguay', 'niger', 'tajikistan', 'afghanistan']"
      ]
     },
     "execution_count": 246,
     "metadata": {},
     "output_type": "execute_result"
    }
   ],
   "source": [
    "list(countries_without_navies)[:5]"
   ]
  },
  {
   "cell_type": "markdown",
   "metadata": {},
   "source": [
    "Problem: Navy data is missing for 32 countries, and it's not on the GFP website.\n",
    "We also have a lot of columns"
   ]
  },
  {
   "cell_type": "markdown",
   "metadata": {},
   "source": [
    "We drop a few of these navy columns because they are specialized forms of navy ships that do not serve our macro analysis. This also helps reduce the dimensionality of our data"
   ]
  },
  {
   "cell_type": "code",
   "execution_count": 247,
   "metadata": {},
   "outputs": [],
   "source": [
    "to_drop = ['Mine Warfare:', 'Helicopter Carriers:', 'Destroyers:', 'Frigates:', 'Corvettes:','Patrol Vessels:']\n",
    "df.drop(to_drop, axis=1, inplace=True)"
   ]
  },
  {
   "cell_type": "markdown",
   "metadata": {},
   "source": [
    "We replace nulls for Submarines and Aircraft Carriers with zeros and keep them as well as total naval assets as the indicators for navy capability. This will help us identify super powers with such assets"
   ]
  },
  {
   "cell_type": "code",
   "execution_count": 248,
   "metadata": {},
   "outputs": [
    {
     "data": {
      "text/plain": [
       "Submarines:  Aircraft Carriers:\n",
       "9.0          1.0                    1\n",
       "68.0         11.0                   1\n",
       "35.0         0.0                    1\n",
       "22.0         0.0                    1\n",
       "21.0         0.0                    1\n",
       "19.0         0.0                    1\n",
       "18.0         2.0                    1\n",
       "12.0         0.0                    1\n",
       "11.0         0.0                    1\n",
       "10.0         2.0                    1\n",
       "70.0         1.0                    1\n",
       "78.0         2.0                    1\n",
       "8.0          2.0                    1\n",
       "             0.0                    1\n",
       "7.0          0.0                    1\n",
       "3.0          0.0                    1\n",
       "9.0          0.0                    1\n",
       "1.0          0.0                    2\n",
       "5.0          0.0                    3\n",
       "6.0          0.0                    6\n",
       "4.0          0.0                    7\n",
       "2.0          0.0                    8\n",
       "0.0          0.0                   70\n",
       "Name: count, dtype: int64"
      ]
     },
     "execution_count": 248,
     "metadata": {},
     "output_type": "execute_result"
    }
   ],
   "source": [
    "df[[\"Submarines:\", \"Aircraft Carriers:\"]].value_counts(ascending=True)"
   ]
  },
  {
   "cell_type": "code",
   "execution_count": 249,
   "metadata": {},
   "outputs": [],
   "source": [
    "df[\"Submarines:\"].fillna(0, inplace=True)\n",
    "df[\"Aircraft Carriers:\"].fillna(0, inplace=True)\n",
    "df[\"Total Assets:\"].fillna(0, inplace=True)"
   ]
  },
  {
   "cell_type": "markdown",
   "metadata": {},
   "source": [
    "Let's see what's left"
   ]
  },
  {
   "cell_type": "code",
   "execution_count": 250,
   "metadata": {},
   "outputs": [
    {
     "data": {
      "text/plain": [
       "Series([], dtype: int64)"
      ]
     },
     "execution_count": 250,
     "metadata": {},
     "output_type": "execute_result"
    }
   ],
   "source": [
    "nulls = df.isnull().sum().sort_values(ascending=False).head(10)\n",
    "nulls = nulls[nulls > 0]\n",
    "nulls"
   ]
  },
  {
   "cell_type": "markdown",
   "metadata": {},
   "source": [
    "#### Fixing Data types"
   ]
  },
  {
   "cell_type": "markdown",
   "metadata": {},
   "source": [
    "Most of our data consists of strings. let's convert them to numeric types"
   ]
  },
  {
   "cell_type": "code",
   "execution_count": 251,
   "metadata": {},
   "outputs": [],
   "source": [
    "import numpy as np\n",
    "\n",
    "df['pwrIndex'] = df['pwrIndex'].astype(np.float64)\n",
    "\n",
    "def convert_to_int(x):\n",
    "\tif isinstance(x, str):\n",
    "\t\tx = x.replace(',', '')\n",
    "\t\tx = x.replace('$', '')\n",
    "\t\tx = x.replace(' ', '')\n",
    "\t\t\n",
    "\t\t# units\n",
    "\t\tx = x.replace('USD', '')\n",
    "\t\tx = x.replace('km', '')\n",
    "\t\tx = x.replace('bbl', '')\n",
    "\t\tx = x.replace('cu.m', '')\n",
    "\t\tx = x.replace('mt', '')\n",
    "\t\t\n",
    "\t\t# Coastal Coverage and Shared Borders values\n",
    "\t\tx = x.replace('LANDLOCKED', '0')\n",
    "\t\tx = x.replace('NONE-ISLAND', '0')\n",
    "\t\t\n",
    "\t\treturn np.int64(x)\n",
    "\telse:\n",
    "\t\treturn x\n",
    "\n",
    "for col in df.columns:\n",
    "\tdf[col] = df[col].apply(convert_to_int)"
   ]
  },
  {
   "cell_type": "code",
   "execution_count": 252,
   "metadata": {},
   "outputs": [
    {
     "data": {
      "text/plain": [
       "0"
      ]
     },
     "execution_count": 252,
     "metadata": {},
     "output_type": "execute_result"
    }
   ],
   "source": [
    "df.isna().sum().sum()"
   ]
  },
  {
   "cell_type": "markdown",
   "metadata": {},
   "source": [
    "### We still have a lot of columns"
   ]
  },
  {
   "cell_type": "code",
   "execution_count": 253,
   "metadata": {},
   "outputs": [
    {
     "data": {
      "text/plain": [
       "(145, 69)"
      ]
     },
     "execution_count": 253,
     "metadata": {},
     "output_type": "execute_result"
    }
   ],
   "source": [
    "df.shape"
   ]
  },
  {
   "cell_type": "markdown",
   "metadata": {},
   "source": [
    "Let's replace the features which represent the number of these forces which are ready and represent that in a ratio for the entire devision. We'll create a readiness ratio for Army and Airforce as navy does not have data on readiness."
   ]
  },
  {
   "cell_type": "code",
   "execution_count": 254,
   "metadata": {},
   "outputs": [],
   "source": [
    "army = [\n",
    "\t'Tanks:',\n",
    "\t'Vehicles:',\n",
    "\t'Self-Propelled Artillery:',\n",
    "\t'Towed Artillery:',\n",
    "\t'MLRS (Rocket Artillery):'\n",
    "]"
   ]
  },
  {
   "cell_type": "code",
   "execution_count": 255,
   "metadata": {},
   "outputs": [
    {
     "data": {
      "text/plain": [
       "Tanks:                                176.0\n",
       "Vehicles:                            7128.0\n",
       "Self-Propelled Artillery:              10.0\n",
       "Towed Artillery:                      295.0\n",
       "MLRS (Rocket Artillery):                0.0\n",
       "Tanks: Ready                        11440.0\n",
       "Vehicles: Ready                    463320.0\n",
       "Self-Propelled Artillery: Ready       650.0\n",
       "Towed Artillery: Ready              19175.0\n",
       "MLRS (Rocket Artillery): Ready          0.0\n",
       "Name: hungary, dtype: float64"
      ]
     },
     "execution_count": 255,
     "metadata": {},
     "output_type": "execute_result"
    }
   ],
   "source": [
    "df.loc['hungary', army + [a + ' Ready' for a in army]]"
   ]
  },
  {
   "cell_type": "code",
   "execution_count": 256,
   "metadata": {},
   "outputs": [
    {
     "data": {
      "text/plain": [
       "afghanistan    0.181538\n",
       "albania        0.200000\n",
       "algeria        0.650582\n",
       "angola         0.647676\n",
       "argentina      0.547634\n",
       "Name: army_readiness, dtype: float64"
      ]
     },
     "execution_count": 256,
     "metadata": {},
     "output_type": "execute_result"
    }
   ],
   "source": [
    "for a in army:\n",
    "\tdf[a + '_army_readiness_ratio'] = df[a + ' Ready'] / df[a]\n",
    "\tdf[a + '_army_readiness_ratio'].fillna(0, inplace=True)\n",
    "\n",
    "ratio_cols = [a + '_army_readiness_ratio' for a in army]\n",
    "df[\"army_readiness\"] = df[ratio_cols].mean(axis=1)\n",
    "df[\"army_readiness\"].head(5)"
   ]
  },
  {
   "cell_type": "code",
   "execution_count": 257,
   "metadata": {},
   "outputs": [
    {
     "data": {
      "text/plain": [
       "luxembourg        1.000000\n",
       "sweden            0.848780\n",
       "spain             0.800774\n",
       "taiwan            0.800543\n",
       "israel            0.800333\n",
       "south-korea       0.800250\n",
       "japan             0.800138\n",
       "turkey            0.800000\n",
       "united-kingdom    0.799397\n",
       "switzerland       0.797297\n",
       "Name: airforce_readiness, dtype: float64"
      ]
     },
     "execution_count": 257,
     "metadata": {},
     "output_type": "execute_result"
    }
   ],
   "source": [
    "df[\"airforce_readiness\"] = df['Aircraft Total: Ready'] / df['Aircraft Total:']\n",
    "df[\"airforce_readiness\"].fillna(0, inplace=True)\n",
    "df[\"airforce_readiness\"].sort_values(ascending=False).head(10)"
   ]
  },
  {
   "cell_type": "code",
   "execution_count": 258,
   "metadata": {},
   "outputs": [],
   "source": [
    "df = df.drop(df.filter(regex='Ready').columns, axis=1)\n",
    "df = df.drop(df.filter(regex='army_readiness_ratio').columns, axis=1)"
   ]
  },
  {
   "cell_type": "code",
   "execution_count": 259,
   "metadata": {},
   "outputs": [
    {
     "data": {
      "text/plain": [
       "0"
      ]
     },
     "execution_count": 259,
     "metadata": {},
     "output_type": "execute_result"
    }
   ],
   "source": [
    "df.isna().sum().sum()"
   ]
  },
  {
   "cell_type": "code",
   "execution_count": 260,
   "metadata": {},
   "outputs": [
    {
     "data": {
      "text/plain": [
       "(145, 57)"
      ]
     },
     "execution_count": 260,
     "metadata": {},
     "output_type": "execute_result"
    }
   ],
   "source": [
    " df.shape"
   ]
  },
  {
   "cell_type": "markdown",
   "metadata": {},
   "source": [
    "Let's merge two types of artillery into one"
   ]
  },
  {
   "cell_type": "code",
   "execution_count": 261,
   "metadata": {},
   "outputs": [
    {
     "data": {
      "text/plain": [
       "(145, 56)"
      ]
     },
     "execution_count": 261,
     "metadata": {},
     "output_type": "execute_result"
    }
   ],
   "source": [
    "df['artillery'] = df['Self-Propelled Artillery:'] + df['Towed Artillery:']\n",
    "df.drop(['Self-Propelled Artillery:', 'Towed Artillery:'], axis=1, inplace=True)\n",
    "df.shape"
   ]
  },
  {
   "cell_type": "markdown",
   "metadata": {},
   "source": [
    "### Let's fix column names"
   ]
  },
  {
   "cell_type": "code",
   "execution_count": 262,
   "metadata": {},
   "outputs": [
    {
     "data": {
      "text/plain": [
       "Index(['pwrIndex', 'Purchasing Power Parity:', 'Foreign Exchange/Gold:',\n",
       "       'Defense Budget:', 'External Debt:', 'Square Land Area:',\n",
       "       'Coastline Coverage:', 'Shared Borders:', 'Waterways (usable):',\n",
       "       'Total Population:', 'Available Manpower', 'Fit-for-Service',\n",
       "       'Reaching Mil Age Annually', 'Tot Mil. Personnel (est.)',\n",
       "       'Active Personnel', 'Reserve Personnel', 'Paramilitary',\n",
       "       'Air Force Personnel*', 'Army Personnel*', 'Navy Personnel*',\n",
       "       'Aircraft Total:', 'Fighters:', 'Attack Types:',\n",
       "       'Transports (Fixed-Wing):', 'Trainers:', 'Special-Mission:',\n",
       "       'Tanker Fleet:', 'Helicopters:', 'Attack Helicopters:', 'Tanks:',\n",
       "       'Vehicles:', 'MLRS (Rocket Artillery):', 'Oil Production:',\n",
       "       'Oil Consumption:', 'Oil Deficit:', 'Oil Proven Reserves:',\n",
       "       'Natural Gas Production:', 'Natural Gas Consumption:',\n",
       "       'Natural Gas Deficit:', 'Nat.Gas Proven Rez:', 'Coal Production:',\n",
       "       'Coal Consumption:', 'Coal Deficit:', 'Coal Proven Reserves:',\n",
       "       'Labor Force:', 'Merchant Marine Fleet:', 'Ports / Trade Terminals:',\n",
       "       'Airports:', 'Roadway Coverage:', 'Railway Coverage:', 'Total Assets:',\n",
       "       'Aircraft Carriers:', 'Submarines:', 'army_readiness',\n",
       "       'airforce_readiness', 'artillery'],\n",
       "      dtype='object')"
      ]
     },
     "execution_count": 262,
     "metadata": {},
     "output_type": "execute_result"
    }
   ],
   "source": [
    "df.columns"
   ]
  },
  {
   "cell_type": "code",
   "execution_count": 263,
   "metadata": {},
   "outputs": [],
   "source": [
    "columns = {\n",
    "\t'Purchasing Power Parity:': 'ppp',\n",
    "\t'Foreign Exchange/Gold:': 'forex_gold',\n",
    "\t'Waterways (usable):': 'waterways',\n",
    "\t'Total Population:': 'population',\n",
    "\t'Tot Mil. Personnel (est.)': 'total_personnel',\n",
    "\t'Transports (Fixed-Wing):': 'transports',\n",
    "\t'MLRS (Rocket Artillery):': 'mlrs',\n",
    "\t'Ports / Trade Terminals:': 'ports',\n",
    "\t'pwrIndex': 'power_index',\n",
    "\t'Total Assets:': 'total_naval_assets',\n",
    "}\n",
    "df.rename(columns=columns, inplace=True)"
   ]
  },
  {
   "cell_type": "markdown",
   "metadata": {},
   "source": [
    "Remaining Column Titles"
   ]
  },
  {
   "cell_type": "code",
   "execution_count": 264,
   "metadata": {},
   "outputs": [
    {
     "data": {
      "text/plain": [
       "Index(['power_index', 'ppp', 'forex_gold', 'defense_budget', 'external_debt',\n",
       "       'square_land_area', 'coastline_coverage', 'shared_borders', 'waterways',\n",
       "       'population', 'available_manpower', 'fit_for_service',\n",
       "       'reaching_mil_age_annually', 'total_personnel', 'active_personnel',\n",
       "       'reserve_personnel', 'paramilitary', 'air_force_personnel',\n",
       "       'army_personnel', 'navy_personnel', 'aircraft_total', 'fighters',\n",
       "       'attack_types', 'transports', 'trainers', 'special_mission',\n",
       "       'tanker_fleet', 'helicopters', 'attack_helicopters', 'tanks',\n",
       "       'vehicles', 'mlrs', 'oil_prod', 'oil_cons', 'oil_deficit', 'oil_res',\n",
       "       'nat_gas_prod', 'nat_gas_cons', 'nat_gas_deficit', 'nat_gas_res',\n",
       "       'coal_prod', 'coal_cons', 'coal_deficit', 'coal_res', 'labor_force',\n",
       "       'merchant_marine_fleet', 'ports', 'airports', 'roadway_coverage',\n",
       "       'railway_coverage', 'total_naval_assets', 'aircraft_carriers',\n",
       "       'submarines', 'army_readiness', 'airforce_readiness', 'artillery'],\n",
       "      dtype='object')"
      ]
     },
     "execution_count": 264,
     "metadata": {},
     "output_type": "execute_result"
    }
   ],
   "source": [
    "columns = list(df.columns)\n",
    "rename_dict = {}\n",
    "\n",
    "for title in columns:\n",
    "\tnew_title = title.lower()\n",
    "\tnew_title = new_title.replace(':', '')\n",
    "\n",
    "\tnew_title = new_title.replace('-', '_')\n",
    "\tnew_title = new_title.replace('nat.gas', 'nat_gas')\n",
    "\tnew_title = new_title.replace('natural', 'nat')\n",
    "\tnew_title = new_title.replace('production', 'prod')\n",
    "\tnew_title = new_title.replace('consumption', 'cons')\n",
    "\tnew_title = new_title.replace('proven', '')\n",
    "\tnew_title = new_title.replace('reserves', 'res')\n",
    "\tnew_title = new_title.replace('rez', 'res')\n",
    "\tnew_title = new_title.replace(' ', '_')\n",
    "\tnew_title = new_title.replace('__', '_')\n",
    "\tnew_title = new_title.replace('*', '')\n",
    "\n",
    "\trename_dict[title] = new_title\n",
    "\n",
    "df.rename(columns=rename_dict, inplace=True)\n",
    "df.columns"
   ]
  },
  {
   "cell_type": "markdown",
   "metadata": {},
   "source": [
    "#### Let's get the latitude and longitude for each country to visualize them!"
   ]
  },
  {
   "cell_type": "code",
   "execution_count": 265,
   "metadata": {},
   "outputs": [],
   "source": [
    "countries = df.index.tolist()"
   ]
  },
  {
   "cell_type": "code",
   "execution_count": 267,
   "metadata": {},
   "outputs": [],
   "source": [
    "import time \n",
    "from geopy.geocoders import Nominatim\n",
    "\n",
    "latitude = pd.Series()\n",
    "longitude = pd.Series()\n",
    "\n",
    "def get_country_coordinates(row):\n",
    "    country_name = row.name.replace('-', ' ')\n",
    "    geolocator = Nominatim(\n",
    "        user_agent=\"military_data_analysis\")\n",
    "    location = geolocator.geocode(country_name, featuretype=\"country\")\n",
    "\n",
    "    time.sleep(0.2)\n",
    "    if location:\n",
    "        latitude[row.name] = location.latitude\n",
    "        longitude[row.name] = location.longitude\n",
    "    else:\n",
    "        return None"
   ]
  },
  {
   "cell_type": "code",
   "execution_count": 268,
   "metadata": {},
   "outputs": [],
   "source": [
    "df.apply(get_country_coordinates, axis=1)\n",
    "df['lat'] = latitude\n",
    "df['long'] = longitude"
   ]
  },
  {
   "cell_type": "code",
   "execution_count": null,
   "metadata": {},
   "outputs": [],
   "source": [
    "# round all floats to 3 decimal places, except power index, and lat/long\n",
    "float_cols = df.select_dtypes(include=['float64']).columns.tolist()\n",
    "float_cols.remove('power_index')\n",
    "float_cols.remove('lat')\n",
    "float_cols.remove('long')\n",
    "\n",
    "for col in float_cols:\n",
    "\tdf[col] = df[col].round(3)"
   ]
  },
  {
   "cell_type": "code",
   "execution_count": null,
   "metadata": {},
   "outputs": [],
   "source": [
    "df.to_csv('data/clean.csv')"
   ]
  }
 ],
 "metadata": {
  "kernelspec": {
   "display_name": "base",
   "language": "python",
   "name": "python3"
  },
  "language_info": {
   "codemirror_mode": {
    "name": "ipython",
    "version": 3
   },
   "file_extension": ".py",
   "mimetype": "text/x-python",
   "name": "python",
   "nbconvert_exporter": "python",
   "pygments_lexer": "ipython3",
   "version": "3.11.4"
  }
 },
 "nbformat": 4,
 "nbformat_minor": 2
}
